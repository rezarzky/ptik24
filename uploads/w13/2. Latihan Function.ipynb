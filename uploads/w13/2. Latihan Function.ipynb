{
 "cells": [
  {
   "cell_type": "markdown",
   "id": "fe30b347-32c7-49f7-8cdb-915b7c295388",
   "metadata": {},
   "source": [
    "## Soal 1: Kalkulator PPN\n",
    "\n",
    "Buat fungsi kalkulator_ppn(n) yang menerima angka dan menghasilkan angka dikalikan dengan 11%\n",
    "\n",
    "Contoh:\n",
    "\n",
    "Input: n = 10000\n",
    "\n",
    "Output: 11000\n"
   ]
  },
  {
   "cell_type": "code",
   "execution_count": 11,
   "id": "0750b248-54fc-499d-9527-ae9e126cdba6",
   "metadata": {},
   "outputs": [],
   "source": [
    "def kalkulator_ppn(n):\n",
    "    # KODE DISINI\n",
    "    return None"
   ]
  },
  {
   "cell_type": "markdown",
   "id": "b462c8f3-9f51-4b6b-be06-b26dc8be283a",
   "metadata": {},
   "source": [
    "## Soal 2: Periksa Bilangan Genap atau Ganjil\n",
    "\n",
    "Deskripsi:\n",
    "Buat fungsi is_even(n: int) -> bool yang mengembalikan True jika n adalah bilangan genap, dan False jika bilangan ganjil.\n",
    "\n",
    "Contoh:\n",
    "- Input: is_even(4) | Output: True\n",
    "- Input: is_even(7) | Output: False"
   ]
  },
  {
   "cell_type": "code",
   "execution_count": 12,
   "id": "570e0fb7-8639-4f23-ab5e-0e4c8ce00cc5",
   "metadata": {},
   "outputs": [],
   "source": [
    "def is_even(n):\n",
    "    # KODE DISINI\n",
    "    return  None"
   ]
  },
  {
   "cell_type": "markdown",
   "id": "de98a929-97f8-48cd-b9fa-3e07358cb8a8",
   "metadata": {},
   "source": [
    "# Soal 3: Valid Palindrome\n",
    "\n",
    "Deskripsi:\n",
    "\n",
    "Buat fungsi is_palindrome(s) menerima sebuah string s dan mengembalikan True jika string tersebut merupakan palindrome, atau False jika tidak. Hanya karakter alfanumerik yang diperhitungkan dan perbedaan huruf besar/kecil diabaikan.\n",
    "\n",
    "Contoh:\n",
    "- is_palindrome(\"kasurrusak\")  # Output: True\n",
    "- is_palindrome(\"halo\")  # Output: False"
   ]
  },
  {
   "cell_type": "code",
   "execution_count": 13,
   "id": "3bf8bab2-88af-4c79-b206-498e13918138",
   "metadata": {},
   "outputs": [],
   "source": [
    "def is_palindrome(s):\n",
    "    # KODE DISINI\n",
    "    return None"
   ]
  },
  {
   "cell_type": "code",
   "execution_count": null,
   "id": "57be64a7-b5fd-4014-bdbc-be2c733f2d13",
   "metadata": {},
   "outputs": [],
   "source": []
  },
  {
   "cell_type": "markdown",
   "id": "b492be74-f9bf-469e-8c56-1785bfbf57ca",
   "metadata": {},
   "source": [
    "# TEST JAWABAN"
   ]
  },
  {
   "cell_type": "code",
   "execution_count": 14,
   "id": "2d03f032-33db-4981-8d5f-cac8a7b500a8",
   "metadata": {},
   "outputs": [],
   "source": [
    "def test_kalkulator_ppn():\n",
    "    print(\"Testing kalkulator_ppn...\")\n",
    "    assert kalkulator_ppn(10000) == 11000, \"Test Case 10000 Failed\"\n",
    "    assert kalkulator_ppn(5000) == 5500, \"Test Case 5000 Failed\"\n",
    "    assert kalkulator_ppn(0) == 0, \"Test Case 0 Failed\"\n",
    "    print(\"All tests passed for kalkulator_ppn.\\n\")\n",
    "\n",
    "def test_is_even():\n",
    "    print(\"Testing is_even...\")\n",
    "    assert is_even(4) == True, \"Test Case is_even(4) Failed\"\n",
    "    assert is_even(7) == False, \"Test Case is_even(7) Failed\"\n",
    "    assert is_even(0) == True, \"Test Case is_even(0) Failed\"\n",
    "    assert is_even(-2) == True, \"Test Case is_even(-2) Failed\"\n",
    "    assert is_even(-3) == False, \"Test Case is_even(-3) Failed\"\n",
    "    print(\"All tests passed for is_even.\\n\")\n",
    "\n",
    "\n",
    "def test_is_palindrome():\n",
    "    print(\"Testing is_palindrome...\")\n",
    "    assert is_palindrome('kasurrusak') == True, \"Test Case Failed\"\n",
    "    assert is_palindrome('halodek') == False, \"Test Case Failed\"\n",
    "    assert is_palindrome('kakak kakak') == True, \"Test Case 'kakak kakak'Failed\"\n",
    "    assert is_palindrome('ibu ratna antar ubi') == True, \"Test Case 'ibu ratna antar ubi' Failed\"\n",
    "    print(\"All tests passed for is_palindrome.\\n\")\n"
   ]
  },
  {
   "cell_type": "code",
   "execution_count": 15,
   "id": "bdd5e4dc-ec92-4fcc-8593-9d86247dacf5",
   "metadata": {},
   "outputs": [],
   "source": [
    "def run_tests():\n",
    "    test_kalkulator_ppn()\n",
    "    test_is_even()\n",
    "    test_is_palindrome()\n",
    "    print(\"Semua test case telah berhasil dijalankan.\")"
   ]
  },
  {
   "cell_type": "code",
   "execution_count": 16,
   "id": "937eff28-1bca-4a91-87c3-24d7a1343b65",
   "metadata": {},
   "outputs": [
    {
     "name": "stdout",
     "output_type": "stream",
     "text": [
      "Testing kalkulator_ppn...\n",
      "All tests passed for kalkulator_ppn.\n",
      "\n",
      "Testing is_even...\n",
      "All tests passed for is_even.\n",
      "\n",
      "Testing is_palindrome...\n",
      "All tests passed for is_palindrome.\n",
      "\n",
      "Semua test case telah berhasil dijalankan.\n"
     ]
    }
   ],
   "source": [
    "run_tests()"
   ]
  },
  {
   "cell_type": "code",
   "execution_count": null,
   "id": "1cd27cf9-eb24-48b5-ba0c-d2914ea06f4d",
   "metadata": {},
   "outputs": [],
   "source": []
  }
 ],
 "metadata": {
  "kernelspec": {
   "display_name": "Python 3 (ipykernel)",
   "language": "python",
   "name": "python3"
  },
  "language_info": {
   "codemirror_mode": {
    "name": "ipython",
    "version": 3
   },
   "file_extension": ".py",
   "mimetype": "text/x-python",
   "name": "python",
   "nbconvert_exporter": "python",
   "pygments_lexer": "ipython3",
   "version": "3.12.6"
  }
 },
 "nbformat": 4,
 "nbformat_minor": 5
}
