{
 "cells": [
  {
   "cell_type": "markdown",
   "id": "aacf7a5c-cb80-4040-bfff-9ccf0724a0ec",
   "metadata": {},
   "source": [
    " ## Control flow\n",
    " \n",
    " Beberapa hal dasar yang perlu dipahami:\n",
    " 1. ```if else``` statement.\n",
    " 2. ```for``` loops.\n",
    " 3. ```while``` loops.\n",
    " 4. ```break```, ```continue```, dan ```pass```."
   ]
  },
  {
   "cell_type": "markdown",
   "id": "8c5925fa",
   "metadata": {},
   "source": [
    "# Operator Logika"
   ]
  },
  {
   "cell_type": "markdown",
   "id": "addd9d2c",
   "metadata": {},
   "source": [
    "## And\n",
    "Bernilai False apabila salah satu pernyataan tidak memenuhi"
   ]
  },
  {
   "cell_type": "markdown",
   "id": "c4015c82",
   "metadata": {},
   "source": [
    "<details>\n",
    "<img src=\"https://media.geeksforgeeks.org/wp-content/uploads/20191122131748/Python-logical-and-operator2.jpg\" width=\"800\">\n",
    "</details>"
   ]
  },
  {
   "cell_type": "code",
   "execution_count": 34,
   "id": "49f46a9b",
   "metadata": {
    "ExecuteTime": {
     "end_time": "2022-10-12T01:18:16.513296Z",
     "start_time": "2022-10-12T01:18:16.502428Z"
    }
   },
   "outputs": [],
   "source": [
    "a = 10\n",
    "b = 10\n",
    "c = -10\n"
   ]
  },
  {
   "cell_type": "code",
   "execution_count": 35,
   "id": "931adb45",
   "metadata": {
    "ExecuteTime": {
     "end_time": "2022-10-12T01:19:00.577173Z",
     "start_time": "2022-10-12T01:19:00.570176Z"
    }
   },
   "outputs": [
    {
     "name": "stdout",
     "output_type": "stream",
     "text": [
      "Kedua angka lebih besar dari 0\n"
     ]
    }
   ],
   "source": [
    "if a > 0 and b > 0:\n",
    "    print(\"Kedua angka lebih besar dari 0\")\n"
   ]
  },
  {
   "cell_type": "code",
   "execution_count": 36,
   "id": "b29e5647",
   "metadata": {
    "ExecuteTime": {
     "end_time": "2022-10-12T01:20:18.074202Z",
     "start_time": "2022-10-12T01:20:18.065210Z"
    }
   },
   "outputs": [
    {
     "name": "stdout",
     "output_type": "stream",
     "text": [
      "Ketiga angka lebih besar dari 0\n"
     ]
    }
   ],
   "source": [
    "if a > 0 and b > 0 and c < 0:\n",
    "    print(\"Ketiga angka lebih besar dari 0\")\n",
    "else:\n",
    "    print(\"Setidaknya satu variabel kurang dari 0\")"
   ]
  },
  {
   "cell_type": "markdown",
   "id": "9c17f8f2",
   "metadata": {},
   "source": [
    "## Or\n",
    "Bernilai True apabila salah satu pernyataan memenuhi"
   ]
  },
  {
   "cell_type": "markdown",
   "id": "fbb847e1",
   "metadata": {},
   "source": [
    "<details>\n",
    "<img src=\"https://media.geeksforgeeks.org/wp-content/uploads/20191122132635/Python-logical-or-operator.jpg\" width=\"800\">\n",
    "</details>"
   ]
  },
  {
   "cell_type": "code",
   "execution_count": 37,
   "id": "15f7299d",
   "metadata": {
    "ExecuteTime": {
     "end_time": "2022-10-12T01:20:34.077659Z",
     "start_time": "2022-10-12T01:20:34.066584Z"
    }
   },
   "outputs": [],
   "source": [
    "a = 10\n",
    "b = -10\n",
    "c = 0\n"
   ]
  },
  {
   "cell_type": "code",
   "execution_count": 38,
   "id": "7c353d23",
   "metadata": {
    "ExecuteTime": {
     "end_time": "2022-10-12T01:20:47.459883Z",
     "start_time": "2022-10-12T01:20:47.441336Z"
    }
   },
   "outputs": [
    {
     "name": "stdout",
     "output_type": "stream",
     "text": [
      "Salah satu variable lebih besar dari 0\n"
     ]
    }
   ],
   "source": [
    "if a > 0 or b > 0:\n",
    "    print(\"Salah satu variable lebih besar dari 0\")\n",
    "else:\n",
    "    print(\"Tidak ada yang lebih besar dari 0\")\n"
   ]
  },
  {
   "cell_type": "code",
   "execution_count": 39,
   "id": "04f189bf",
   "metadata": {
    "ExecuteTime": {
     "end_time": "2022-10-12T01:21:18.720668Z",
     "start_time": "2022-10-12T01:21:18.712668Z"
    }
   },
   "outputs": [
    {
     "name": "stdout",
     "output_type": "stream",
     "text": [
      "Tidak ada yang lebih besar dari 0\n"
     ]
    }
   ],
   "source": [
    "if b > 0 or c > 0:\n",
    "    print(\"Salah satu variable lebih besar dari 0\")\n",
    "else:\n",
    "    print(\"Tidak ada yang lebih besar dari 0\")"
   ]
  },
  {
   "cell_type": "code",
   "execution_count": 40,
   "id": "493251e8",
   "metadata": {
    "ExecuteTime": {
     "end_time": "2022-10-12T01:21:25.711227Z",
     "start_time": "2022-10-12T01:21:25.705215Z"
    }
   },
   "outputs": [],
   "source": [
    "a = 10\n",
    "b = 12\n",
    "c = 0\n"
   ]
  },
  {
   "cell_type": "code",
   "execution_count": 41,
   "id": "2b7e568c",
   "metadata": {
    "ExecuteTime": {
     "end_time": "2022-10-12T01:22:01.237905Z",
     "start_time": "2022-10-12T01:22:01.227903Z"
    }
   },
   "outputs": [
    {
     "name": "stdout",
     "output_type": "stream",
     "text": [
      "Atleast one number has boolean value as True\n"
     ]
    }
   ],
   "source": [
    "if a or b or c:\n",
    "    print(\"Atleast one number has boolean value as True\")\n",
    "else:\n",
    "    print(\"All the numbers have boolean value as False\")"
   ]
  },
  {
   "cell_type": "markdown",
   "id": "ba37b961",
   "metadata": {},
   "source": [
    "## Not\n",
    "Negasi dari pernyataan"
   ]
  },
  {
   "cell_type": "markdown",
   "id": "c5b4bac1",
   "metadata": {},
   "source": [
    "<details>\n",
    "<img src=\"https://media.geeksforgeeks.org/wp-content/uploads/20191122133914/Python-logical-not-operator.jpg\" width=\"800\">\n",
    "</details>"
   ]
  },
  {
   "cell_type": "code",
   "execution_count": 42,
   "id": "3465b127",
   "metadata": {
    "ExecuteTime": {
     "end_time": "2022-10-12T01:22:35.156221Z",
     "start_time": "2022-10-12T01:22:35.147220Z"
    }
   },
   "outputs": [],
   "source": [
    "a = 10\n"
   ]
  },
  {
   "cell_type": "code",
   "execution_count": 43,
   "id": "81650d4c",
   "metadata": {
    "ExecuteTime": {
     "end_time": "2022-10-12T01:24:51.005391Z",
     "start_time": "2022-10-12T01:24:51.000379Z"
    }
   },
   "outputs": [
    {
     "name": "stdout",
     "output_type": "stream",
     "text": [
      "bernilai False\n"
     ]
    }
   ],
   "source": [
    "if not a:\n",
    "    print(\"Bernilai True\")\n",
    "else:\n",
    "    print('bernilai False')\n"
   ]
  },
  {
   "cell_type": "code",
   "execution_count": 44,
   "id": "31066640",
   "metadata": {
    "ExecuteTime": {
     "end_time": "2022-10-12T01:23:38.376292Z",
     "start_time": "2022-10-12T01:23:38.364279Z"
    }
   },
   "outputs": [
    {
     "name": "stdout",
     "output_type": "stream",
     "text": [
      "10 bisa dibagi 3 atau 5\n"
     ]
    }
   ],
   "source": [
    "if not (a%3 == 0 or a%5 == 0):\n",
    "    print(\"10 tidak bisa dibagi 3 atau 5\")\n",
    "else:\n",
    "    print(\"10 bisa dibagi 3 atau 5\")"
   ]
  },
  {
   "cell_type": "markdown",
   "id": "77950e2a",
   "metadata": {},
   "source": [
    "# Kondisional\n",
    "> Digunakan untuk mengendalikan kode yang akan dieksekusi dengan memperhatikan pemenuhan terhadap kondisi tertentu.\n",
    "\n",
    "```python\n",
    "\n",
    "if condition1:\n",
    "    # baris dieksekusi jika condition1 terpenuhi\n",
    "elif condition2:\n",
    "    # baris dieksekusi jika condition2 terpenuhi\n",
    "else:\n",
    "    # baris dieksekusi jika condition1 & condition2 tidak terpenuhi\n",
    "\n",
    "\n",
    "```"
   ]
  },
  {
   "cell_type": "code",
   "execution_count": 22,
   "id": "5b09d13d",
   "metadata": {
    "ExecuteTime": {
     "end_time": "2022-10-12T01:28:58.292787Z",
     "start_time": "2022-10-12T01:28:58.274787Z"
    }
   },
   "outputs": [],
   "source": [
    "# kita akan membuat variable A\n",
    "# kita akan membuat variable B\n",
    "A = 16\n",
    "B = 4"
   ]
  },
  {
   "cell_type": "code",
   "execution_count": 25,
   "id": "a5bf7d80",
   "metadata": {
    "ExecuteTime": {
     "end_time": "2022-10-12T01:31:18.143779Z",
     "start_time": "2022-10-12T01:31:18.125788Z"
    }
   },
   "outputs": [
    {
     "name": "stdout",
     "output_type": "stream",
     "text": [
      "A is greater than B\n"
     ]
    }
   ],
   "source": [
    "# kita akan mencoba membuat kondisi atas value pada variable A dan B\n",
    "# kondisi 1\n",
    "# jika nilai B > dari A, maka print B is greater than A\n",
    "if B > A:\n",
    "  print(\"B is greater than A\")\n",
    "# kondisi 2\n",
    "# jika B == A, maka print B and A are equal\n",
    "elif B < A:\n",
    "  print(\"A is greater than B\")\n",
    "elif B == A:\n",
    "  print(\"B and A are equal\")\n",
    "elif A == B*B:\n",
    "    print(\"A adalah kuadrat dari B\")\n",
    "# kondisi else, diluar kondisi 1 dan 2\n",
    "# jika dua kondisi sebelumnya tidak terpenuhi, maka print A is greater than B\n",
    "else:\n",
    "  print(\"A is equal to B\")"
   ]
  },
  {
   "cell_type": "markdown",
   "id": "39e36a49",
   "metadata": {},
   "source": [
    "<details>\n",
    "<img src=\"https://i.postimg.cc/J0j4HHdb/if-else.png\" width=\"800\">\n",
    "</details>"
   ]
  },
  {
   "cell_type": "markdown",
   "id": "ba4dc515",
   "metadata": {},
   "source": [
    "# Iterasi dan Sequence Control"
   ]
  },
  {
   "cell_type": "markdown",
   "id": "73c4f61d",
   "metadata": {},
   "source": [
    "## For\n",
    "\n",
    "> Digunakan untuk mengeksekusi sebuah blok kode secara berulang berdasarkan sebuah iterable.\n",
    "\n",
    "```python\n",
    "for i in iterable:\n",
    "    # baris dieksekusi pada setiap loop\n",
    "```\n",
    "\n",
    "Iterable dapat berupa list, tuple, set, dictionary, string, maupun range. Kita bisa gunakan range untuk menghasilkan urutan angka secara otomatis dengan format berikut:\n",
    "\n",
    "```range(start, finish, steps)``` seperti pada saat list slicing."
   ]
  },
  {
   "cell_type": "code",
   "execution_count": 26,
   "id": "9a2d2cc7",
   "metadata": {
    "ExecuteTime": {
     "end_time": "2022-10-12T01:51:53.178456Z",
     "start_time": "2022-10-12T01:51:53.163461Z"
    }
   },
   "outputs": [
    {
     "name": "stdout",
     "output_type": "stream",
     "text": [
      "1\n",
      "3\n",
      "5\n",
      "7\n",
      "9\n"
     ]
    }
   ],
   "source": [
    "# kita akan mencoba membuat for loops menggunakan range:\n",
    "for i in range(1,11,2):   # > kita akan melihat i (ini merupakan element dalam range), start = 1, finish = 11, steps = 2\n",
    "#1, 3, 5, 7, 9\n",
    "    print(i)              # > print seluruh i yang memenuhi kriteria dalam range diatas"
   ]
  },
  {
   "cell_type": "code",
   "execution_count": 27,
   "id": "08287f79",
   "metadata": {
    "ExecuteTime": {
     "end_time": "2022-10-12T01:52:32.436501Z",
     "start_time": "2022-10-12T01:52:32.426503Z"
    }
   },
   "outputs": [],
   "source": [
    "ip = [3.7, 3.8, 4, 3.5]"
   ]
  },
  {
   "cell_type": "code",
   "execution_count": 37,
   "id": "16cd56f7",
   "metadata": {
    "ExecuteTime": {
     "end_time": "2022-10-12T01:59:37.350014Z",
     "start_time": "2022-10-12T01:59:37.333014Z"
    }
   },
   "outputs": [
    {
     "name": "stdout",
     "output_type": "stream",
     "text": [
      "3.7\n",
      "37.0\n",
      "\t\n",
      "3.8\n",
      "38.0\n",
      "\t\n",
      "4\n",
      "40\n",
      "\t\n",
      "3.5\n",
      "35.0\n",
      "\t\n"
     ]
    }
   ],
   "source": [
    "simpan_nilai = []\n",
    "for nilai in ip:\n",
    "    print(nilai)\n",
    "    print(nilai*10)\n",
    "    simpan_nilai.append(nilai*10)\n",
    "    print('\\t')"
   ]
  },
  {
   "cell_type": "code",
   "execution_count": 38,
   "id": "8db24639",
   "metadata": {
    "ExecuteTime": {
     "end_time": "2022-10-12T01:59:43.576591Z",
     "start_time": "2022-10-12T01:59:43.572591Z"
    }
   },
   "outputs": [
    {
     "data": {
      "text/plain": [
       "[37.0, 38.0, 40, 35.0]"
      ]
     },
     "execution_count": 38,
     "metadata": {},
     "output_type": "execute_result"
    }
   ],
   "source": [
    "simpan_nilai"
   ]
  },
  {
   "cell_type": "code",
   "execution_count": 36,
   "id": "2a04e88c",
   "metadata": {
    "ExecuteTime": {
     "end_time": "2022-10-12T01:58:22.489513Z",
     "start_time": "2022-10-12T01:58:22.479520Z"
    }
   },
   "outputs": [
    {
     "data": {
      "text/plain": [
       "3.5"
      ]
     },
     "execution_count": 36,
     "metadata": {},
     "output_type": "execute_result"
    }
   ],
   "source": [
    "nilai"
   ]
  },
  {
   "cell_type": "code",
   "execution_count": 34,
   "id": "3479c930",
   "metadata": {
    "ExecuteTime": {
     "end_time": "2022-10-12T01:55:37.673660Z",
     "start_time": "2022-10-12T01:55:37.662652Z"
    }
   },
   "outputs": [
    {
     "name": "stdout",
     "output_type": "stream",
     "text": [
      "Hello, Alice!\n",
      "Hello, Bob!\n",
      "Hello, Charlie!\n"
     ]
    }
   ],
   "source": [
    "# kita akan mencoba membuat for loops dengan melakukan iterasi dalam list\n",
    "# membuat variable list berisi nama\n",
    "names = [\"Alice\", \"Bob\", \"Charlie\"]\n",
    "\n",
    "for name in names:                   # > setiap nama di list names\n",
    "    print(\"Hello, \" + name + \"!\")    # > print nama-nama tersebut dengan format Hello, nama!, perhatikan spasi yang digunakan"
   ]
  },
  {
   "cell_type": "markdown",
   "id": "8c0b97cf",
   "metadata": {},
   "source": [
    "<details>\n",
    "<img src=\"https://i.postimg.cc/k56gxH2N/for.png\" width=\"800\">\n",
    "</details>"
   ]
  },
  {
   "cell_type": "markdown",
   "id": "6e841954",
   "metadata": {},
   "source": [
    "## While\n",
    "\n",
    "> Digunakan untuk mengeksekusi sebuah blok kode secara berulang berdasarkan sebuah kondisi tertentu yang ditetapkan selama kondisi terpenuhi.\n",
    "\n",
    "```python\n",
    "while condition:\n",
    "    # baris dieksekusi jika condtion == True    \n",
    "```\n",
    "Kesalahan dalam membuat kode while dapat membuat loop berjalan terus-menerus."
   ]
  },
  {
   "cell_type": "code",
   "execution_count": 39,
   "id": "977d0f64",
   "metadata": {
    "ExecuteTime": {
     "end_time": "2022-10-12T02:13:49.376008Z",
     "start_time": "2022-10-12T02:13:49.362009Z"
    }
   },
   "outputs": [
    {
     "name": "stdout",
     "output_type": "stream",
     "text": [
      "0\n",
      "1\n",
      "2\n",
      "3\n",
      "4\n"
     ]
    }
   ],
   "source": [
    "# kita akan mencoba membuat while loops dengan kondisi, i < 5\n",
    "# i kita tetapkan valuenya = 0\n",
    "# setiap kali dia terpenuhi maka print(i)\n",
    "# perhatikan maksud dari i += 1\n",
    "i = 0\n",
    "while i < 5 :\n",
    "    print(i)\n",
    "    i += 1         # >  jika kode semacam ini tidak diberikan, maka kondisi akan selalu True!"
   ]
  },
  {
   "cell_type": "markdown",
   "id": "8e8b3d24",
   "metadata": {},
   "source": [
    "<details>\n",
    "<img src=\"https://i.postimg.cc/sD4kN4kk/while.png\" width=\"800\">\n",
    "</details>"
   ]
  },
  {
   "cell_type": "markdown",
   "id": "39c2245c",
   "metadata": {},
   "source": [
    "## Break, Continue dan Pass\n",
    "**Break statement:**\n",
    "> menghentikan loop saat ini. Gunakan pernyataan break untuk keluar dari loop secara instan.\n",
    "<details>\n",
    "    \n",
    "<img src=\"https://pynative.com/wp-content/uploads/2021/06/break-loop-in-python.png\">\n",
    "\n",
    "</details>\n",
    "\n",
    "**Continue statement:**\n",
    "> Lewati iterasi loop saat ini dan pindah ke iterasi berikutnya\n",
    "<details>\n",
    "    \n",
    "<img src=\"https://pynative.com/wp-content/uploads/2021/06/python-continue-statement-in-loop.png\">\n",
    "    \n",
    "</details>\n",
    "\n",
    "**Pass statement:**\n",
    "> Tidak melakukan apapun. Abaikan kondisi di mana itu terjadi dan lanjutkan untuk menjalankan program seperti biasa\n",
    "\n",
    "sumber : https://pynative.com/python-break-continue-pass/"
   ]
  },
  {
   "cell_type": "code",
   "execution_count": 40,
   "id": "128f6883",
   "metadata": {
    "ExecuteTime": {
     "end_time": "2022-10-12T02:26:35.438224Z",
     "start_time": "2022-10-12T02:26:35.427223Z"
    }
   },
   "outputs": [],
   "source": [
    "# kita akan mencoba break statement\n",
    "# membuat variable kota\n",
    "kota = 'jakarta'"
   ]
  },
  {
   "cell_type": "code",
   "execution_count": 42,
   "id": "3aedba2e",
   "metadata": {
    "ExecuteTime": {
     "end_time": "2022-10-12T02:27:24.625658Z",
     "start_time": "2022-10-12T02:27:24.622658Z"
    }
   },
   "outputs": [
    {
     "name": "stdout",
     "output_type": "stream",
     "text": [
      "j\n",
      "belum ketemu 'r'\n",
      "a\n",
      "belum ketemu 'r'\n",
      "k\n",
      "belum ketemu 'r'\n",
      "a\n",
      "belum ketemu 'r'\n",
      "r\n",
      "Sudah ketemu!\n"
     ]
    }
   ],
   "source": [
    "# implementasi menggunakan for loops\n",
    "# atas setiap huruf di variable kota\n",
    "for huruf in kota:\n",
    "    print(huruf)\n",
    "    # break saat menemukan huruf 'r'\n",
    "    if huruf == 'r':\n",
    "        break\n",
    "    print(\"belum ketemu 'r'\")\n",
    "# menunjukkan kapan terjadinya break\n",
    "print(\"Sudah ketemu!\")\n",
    "\n",
    "# dapat dilihat dari interaksi yang terjadi, saat menemukan huruf 'r'\n",
    "# seketika itu for loops yang dibangun berhenti"
   ]
  },
  {
   "cell_type": "code",
   "execution_count": 44,
   "id": "550d32a9",
   "metadata": {
    "ExecuteTime": {
     "end_time": "2022-10-12T02:38:10.718600Z",
     "start_time": "2022-10-12T02:38:10.714597Z"
    }
   },
   "outputs": [
    {
     "name": "stdout",
     "output_type": "stream",
     "text": [
      "1\n",
      "2\n",
      "3\n",
      "4\n",
      "5\n",
      "7\n",
      "8\n",
      "9\n",
      "10\n"
     ]
    }
   ],
   "source": [
    "# kita akan mencoba continue statement\n",
    "# menggunakan for loops\n",
    "# atas setiap value dalam range start = 1, finish = 11\n",
    "\n",
    "\n",
    "for i in range(1, 11):\n",
    "    # jika value sama dengan 6,\n",
    "    # continue iterasinya\n",
    "    # tanpa melakukan print\n",
    "    if i == 6:\n",
    "        continue\n",
    "    print(i)\n",
    "\n",
    "\n",
    "    #else:\n",
    "    #    # diluar if statement, print i ditambahkan spasi\n",
    "    #    print(i, end = \"\\n\")"
   ]
  },
  {
   "cell_type": "code",
   "execution_count": null,
   "id": "3cd44ed1",
   "metadata": {
    "ExecuteTime": {
     "end_time": "2022-10-10T14:24:10.617782Z",
     "start_time": "2022-10-10T14:24:10.604783Z"
    }
   },
   "outputs": [],
   "source": [
    "# kita akan mencoba membuat pass statement\n",
    "# menggunakan variable s sebelumnya\n",
    "# menggunakan for loops\n",
    "# atas setiap value pada variable s\n",
    "for huruf in kota:\n",
    "    # jika value sama dengan 'a', print 'Pass executed'\n",
    "    if huruf == 'a':\n",
    "        print('Pass executed')\n",
    "        # kemudian pass\n",
    "        pass\n",
    "    print(huruf)\n",
    "# dapat dilihat bahwa print seluruh value pada variable kota tetap berlangsung"
   ]
  },
  {
   "cell_type": "markdown",
   "id": "0d5b3860",
   "metadata": {},
   "source": [
    "# Object Oriented Programming\n",
    "\n",
    "Merupakan sebuah paradigma pemrograman yang menggunakan object dan class dalam programming. Intinya bagaimana menerapan objek dan sifatnya ke dalam bentuk program. Tujuannya adalah menggabungkan data dan fungsi terkait kelas tersebut ke dalam satu unit tunggal."
   ]
  },
  {
   "cell_type": "markdown",
   "id": "384ef59a",
   "metadata": {},
   "source": [
    "Beberapa konsep penting:\n",
    "\n",
    "* Class\n",
    "* Object\n",
    "* Polymorphism\n",
    "* Encapsulation\n",
    "* Inheritance\n",
    "* Data Abstraction\n",
    "\n",
    "Silahkan cek lebih jelas [disini](https://www.geeksforgeeks.org/python-oops-concepts/)"
   ]
  },
  {
   "cell_type": "markdown",
   "id": "01733833",
   "metadata": {},
   "source": []
  },
  {
   "cell_type": "markdown",
   "id": "9e1b2199",
   "metadata": {},
   "source": [
    "# Library dalam Python"
   ]
  },
  {
   "cell_type": "code",
   "execution_count": 3,
   "id": "a3b20b7a",
   "metadata": {
    "ExecuteTime": {
     "end_time": "2022-10-12T03:04:35.597736Z",
     "start_time": "2022-10-12T03:04:35.592735Z"
    }
   },
   "outputs": [
    {
     "name": "stdout",
     "output_type": "stream",
     "text": [
      "4.0\n"
     ]
    }
   ],
   "source": [
    "#Importing math library\n",
    "import math\n",
    "\n",
    "A = 16\n",
    "print(math.sqrt(A))"
   ]
  },
  {
   "cell_type": "markdown",
   "id": "1894387a-bf50-4408-8170-c9da51346fdf",
   "metadata": {
    "ExecuteTime": {
     "end_time": "2022-10-12T03:04:35.597736Z",
     "start_time": "2022-10-12T03:04:35.592735Z"
    }
   },
   "source": [
    "## Pandas Library"
   ]
  },
  {
   "cell_type": "code",
   "execution_count": 24,
   "id": "db6bd80d-67c1-40d2-b50d-9b4b33725550",
   "metadata": {},
   "outputs": [],
   "source": [
    "# flight csv\n",
    "link_airtravel = \"https://raw.githubusercontent.com/mofdac/-materi-das/main/01.%20Python%20for%20DA/airtravel.csv\"\n",
    "\n",
    "# semicolon separated value\n",
    "link_airtravel2 = \"https://raw.githubusercontent.com/mofdac/-materi-das/main/01.%20Python%20for%20DA/airtravel_2.csv\"\n",
    "\n",
    "# excel\n",
    "link_airtravel3 = \"https://raw.githubusercontent.com/mofdac/-materi-das/main/01.%20Python%20for%20DA/airtravel_3.xlsx\"\n",
    "\n",
    "# US population csv\n",
    "link_population = \"https://raw.githubusercontent.com/mofdac/-materi-das/main/01.%20Python%20for%20DA/america_population.csv\"\n",
    "\n",
    "# fruit json\n",
    "link_json = \"https://raw.githubusercontent.com/mofdac/-materi-das/main/01.%20Python%20for%20DA/example_1.json\"\n",
    "\n",
    "# exchange rate json\n",
    "link_json2 = \"https://www.floatrates.com/daily/usd.json\"\n",
    "\n",
    "# titanic csv\n",
    "link_titanic = \"https://raw.githubusercontent.com/mofdac/-materi-das/main/01.%20Python%20for%20DA/titanic.csv\""
   ]
  },
  {
   "cell_type": "code",
   "execution_count": 25,
   "id": "96a3af3d",
   "metadata": {
    "ExecuteTime": {
     "end_time": "2022-10-12T03:09:25.848513Z",
     "start_time": "2022-10-12T03:09:25.835515Z"
    }
   },
   "outputs": [],
   "source": [
    "import pandas as pd\n",
    "import numpy as np"
   ]
  },
  {
   "cell_type": "code",
   "execution_count": 26,
   "id": "01d1dc9c",
   "metadata": {
    "ExecuteTime": {
     "end_time": "2022-10-12T03:05:40.973841Z",
     "start_time": "2022-10-12T03:05:36.877876Z"
    }
   },
   "outputs": [],
   "source": [
    "#Menggunakan library pandas\n",
    "data_titanic = pd.read_csv(link_titanic)"
   ]
  },
  {
   "cell_type": "code",
   "execution_count": 27,
   "id": "39579058",
   "metadata": {},
   "outputs": [
    {
     "data": {
      "text/plain": [
       "<function pandas.io.parsers.readers.read_csv(filepath_or_buffer: 'FilePath | ReadCsvBuffer[bytes] | ReadCsvBuffer[str]', *, sep: 'str | None | lib.NoDefault' = <no_default>, delimiter: 'str | None | lib.NoDefault' = None, header: \"int | Sequence[int] | None | Literal['infer']\" = 'infer', names: 'Sequence[Hashable] | None | lib.NoDefault' = <no_default>, index_col: 'IndexLabel | Literal[False] | None' = None, usecols: 'UsecolsArgType' = None, dtype: 'DtypeArg | None' = None, engine: 'CSVEngine | None' = None, converters: 'Mapping[Hashable, Callable] | None' = None, true_values: 'list | None' = None, false_values: 'list | None' = None, skipinitialspace: 'bool' = False, skiprows: 'list[int] | int | Callable[[Hashable], bool] | None' = None, skipfooter: 'int' = 0, nrows: 'int | None' = None, na_values: 'Hashable | Iterable[Hashable] | Mapping[Hashable, Iterable[Hashable]] | None' = None, keep_default_na: 'bool' = True, na_filter: 'bool' = True, verbose: 'bool | lib.NoDefault' = <no_default>, skip_blank_lines: 'bool' = True, parse_dates: 'bool | Sequence[Hashable] | None' = None, infer_datetime_format: 'bool | lib.NoDefault' = <no_default>, keep_date_col: 'bool | lib.NoDefault' = <no_default>, date_parser: 'Callable | lib.NoDefault' = <no_default>, date_format: 'str | dict[Hashable, str] | None' = None, dayfirst: 'bool' = False, cache_dates: 'bool' = True, iterator: 'bool' = False, chunksize: 'int | None' = None, compression: 'CompressionOptions' = 'infer', thousands: 'str | None' = None, decimal: 'str' = '.', lineterminator: 'str | None' = None, quotechar: 'str' = '\"', quoting: 'int' = 0, doublequote: 'bool' = True, escapechar: 'str | None' = None, comment: 'str | None' = None, encoding: 'str | None' = None, encoding_errors: 'str | None' = 'strict', dialect: 'str | csv.Dialect | None' = None, on_bad_lines: 'str' = 'error', delim_whitespace: 'bool | lib.NoDefault' = <no_default>, low_memory: 'bool' = True, memory_map: 'bool' = False, float_precision: \"Literal['high', 'legacy'] | None\" = None, storage_options: 'StorageOptions | None' = None, dtype_backend: 'DtypeBackend | lib.NoDefault' = <no_default>) -> 'DataFrame | TextFileReader'>"
      ]
     },
     "execution_count": 27,
     "metadata": {},
     "output_type": "execute_result"
    }
   ],
   "source": [
    "pd.read_csv"
   ]
  },
  {
   "cell_type": "code",
   "execution_count": 28,
   "id": "d6ea4286",
   "metadata": {
    "ExecuteTime": {
     "end_time": "2022-10-12T03:05:45.307170Z",
     "start_time": "2022-10-12T03:05:45.273170Z"
    }
   },
   "outputs": [
    {
     "data": {
      "text/html": [
       "<div>\n",
       "<style scoped>\n",
       "    .dataframe tbody tr th:only-of-type {\n",
       "        vertical-align: middle;\n",
       "    }\n",
       "\n",
       "    .dataframe tbody tr th {\n",
       "        vertical-align: top;\n",
       "    }\n",
       "\n",
       "    .dataframe thead th {\n",
       "        text-align: right;\n",
       "    }\n",
       "</style>\n",
       "<table border=\"1\" class=\"dataframe\">\n",
       "  <thead>\n",
       "    <tr style=\"text-align: right;\">\n",
       "      <th></th>\n",
       "      <th>PassengerId</th>\n",
       "      <th>Survived</th>\n",
       "      <th>Pclass</th>\n",
       "      <th>Name</th>\n",
       "      <th>Sex</th>\n",
       "      <th>Age</th>\n",
       "      <th>SibSp</th>\n",
       "      <th>Parch</th>\n",
       "      <th>Ticket</th>\n",
       "      <th>Fare</th>\n",
       "      <th>Cabin</th>\n",
       "      <th>Embarked</th>\n",
       "    </tr>\n",
       "  </thead>\n",
       "  <tbody>\n",
       "    <tr>\n",
       "      <th>0</th>\n",
       "      <td>1</td>\n",
       "      <td>0</td>\n",
       "      <td>3</td>\n",
       "      <td>Braund, Mr. Owen Harris</td>\n",
       "      <td>male</td>\n",
       "      <td>22.0</td>\n",
       "      <td>1</td>\n",
       "      <td>0</td>\n",
       "      <td>A/5 21171</td>\n",
       "      <td>7.2500</td>\n",
       "      <td>NaN</td>\n",
       "      <td>S</td>\n",
       "    </tr>\n",
       "    <tr>\n",
       "      <th>1</th>\n",
       "      <td>2</td>\n",
       "      <td>1</td>\n",
       "      <td>1</td>\n",
       "      <td>Cumings, Mrs. John Bradley (Florence Briggs Th...</td>\n",
       "      <td>female</td>\n",
       "      <td>38.0</td>\n",
       "      <td>1</td>\n",
       "      <td>0</td>\n",
       "      <td>PC 17599</td>\n",
       "      <td>71.2833</td>\n",
       "      <td>C85</td>\n",
       "      <td>C</td>\n",
       "    </tr>\n",
       "    <tr>\n",
       "      <th>2</th>\n",
       "      <td>3</td>\n",
       "      <td>1</td>\n",
       "      <td>3</td>\n",
       "      <td>Heikkinen, Miss. Laina</td>\n",
       "      <td>female</td>\n",
       "      <td>26.0</td>\n",
       "      <td>0</td>\n",
       "      <td>0</td>\n",
       "      <td>STON/O2. 3101282</td>\n",
       "      <td>7.9250</td>\n",
       "      <td>NaN</td>\n",
       "      <td>S</td>\n",
       "    </tr>\n",
       "    <tr>\n",
       "      <th>3</th>\n",
       "      <td>4</td>\n",
       "      <td>1</td>\n",
       "      <td>1</td>\n",
       "      <td>Futrelle, Mrs. Jacques Heath (Lily May Peel)</td>\n",
       "      <td>female</td>\n",
       "      <td>35.0</td>\n",
       "      <td>1</td>\n",
       "      <td>0</td>\n",
       "      <td>113803</td>\n",
       "      <td>53.1000</td>\n",
       "      <td>C123</td>\n",
       "      <td>S</td>\n",
       "    </tr>\n",
       "    <tr>\n",
       "      <th>4</th>\n",
       "      <td>5</td>\n",
       "      <td>0</td>\n",
       "      <td>3</td>\n",
       "      <td>Allen, Mr. William Henry</td>\n",
       "      <td>male</td>\n",
       "      <td>35.0</td>\n",
       "      <td>0</td>\n",
       "      <td>0</td>\n",
       "      <td>373450</td>\n",
       "      <td>8.0500</td>\n",
       "      <td>NaN</td>\n",
       "      <td>S</td>\n",
       "    </tr>\n",
       "    <tr>\n",
       "      <th>...</th>\n",
       "      <td>...</td>\n",
       "      <td>...</td>\n",
       "      <td>...</td>\n",
       "      <td>...</td>\n",
       "      <td>...</td>\n",
       "      <td>...</td>\n",
       "      <td>...</td>\n",
       "      <td>...</td>\n",
       "      <td>...</td>\n",
       "      <td>...</td>\n",
       "      <td>...</td>\n",
       "      <td>...</td>\n",
       "    </tr>\n",
       "    <tr>\n",
       "      <th>886</th>\n",
       "      <td>887</td>\n",
       "      <td>0</td>\n",
       "      <td>2</td>\n",
       "      <td>Montvila, Rev. Juozas</td>\n",
       "      <td>male</td>\n",
       "      <td>27.0</td>\n",
       "      <td>0</td>\n",
       "      <td>0</td>\n",
       "      <td>211536</td>\n",
       "      <td>13.0000</td>\n",
       "      <td>NaN</td>\n",
       "      <td>S</td>\n",
       "    </tr>\n",
       "    <tr>\n",
       "      <th>887</th>\n",
       "      <td>888</td>\n",
       "      <td>1</td>\n",
       "      <td>1</td>\n",
       "      <td>Graham, Miss. Margaret Edith</td>\n",
       "      <td>female</td>\n",
       "      <td>19.0</td>\n",
       "      <td>0</td>\n",
       "      <td>0</td>\n",
       "      <td>112053</td>\n",
       "      <td>30.0000</td>\n",
       "      <td>B42</td>\n",
       "      <td>S</td>\n",
       "    </tr>\n",
       "    <tr>\n",
       "      <th>888</th>\n",
       "      <td>889</td>\n",
       "      <td>0</td>\n",
       "      <td>3</td>\n",
       "      <td>Johnston, Miss. Catherine Helen \"Carrie\"</td>\n",
       "      <td>female</td>\n",
       "      <td>NaN</td>\n",
       "      <td>1</td>\n",
       "      <td>2</td>\n",
       "      <td>W./C. 6607</td>\n",
       "      <td>23.4500</td>\n",
       "      <td>NaN</td>\n",
       "      <td>S</td>\n",
       "    </tr>\n",
       "    <tr>\n",
       "      <th>889</th>\n",
       "      <td>890</td>\n",
       "      <td>1</td>\n",
       "      <td>1</td>\n",
       "      <td>Behr, Mr. Karl Howell</td>\n",
       "      <td>male</td>\n",
       "      <td>26.0</td>\n",
       "      <td>0</td>\n",
       "      <td>0</td>\n",
       "      <td>111369</td>\n",
       "      <td>30.0000</td>\n",
       "      <td>C148</td>\n",
       "      <td>C</td>\n",
       "    </tr>\n",
       "    <tr>\n",
       "      <th>890</th>\n",
       "      <td>891</td>\n",
       "      <td>0</td>\n",
       "      <td>3</td>\n",
       "      <td>Dooley, Mr. Patrick</td>\n",
       "      <td>male</td>\n",
       "      <td>32.0</td>\n",
       "      <td>0</td>\n",
       "      <td>0</td>\n",
       "      <td>370376</td>\n",
       "      <td>7.7500</td>\n",
       "      <td>NaN</td>\n",
       "      <td>Q</td>\n",
       "    </tr>\n",
       "  </tbody>\n",
       "</table>\n",
       "<p>891 rows × 12 columns</p>\n",
       "</div>"
      ],
      "text/plain": [
       "     PassengerId  Survived  Pclass  \\\n",
       "0              1         0       3   \n",
       "1              2         1       1   \n",
       "2              3         1       3   \n",
       "3              4         1       1   \n",
       "4              5         0       3   \n",
       "..           ...       ...     ...   \n",
       "886          887         0       2   \n",
       "887          888         1       1   \n",
       "888          889         0       3   \n",
       "889          890         1       1   \n",
       "890          891         0       3   \n",
       "\n",
       "                                                  Name     Sex   Age  SibSp  \\\n",
       "0                              Braund, Mr. Owen Harris    male  22.0      1   \n",
       "1    Cumings, Mrs. John Bradley (Florence Briggs Th...  female  38.0      1   \n",
       "2                               Heikkinen, Miss. Laina  female  26.0      0   \n",
       "3         Futrelle, Mrs. Jacques Heath (Lily May Peel)  female  35.0      1   \n",
       "4                             Allen, Mr. William Henry    male  35.0      0   \n",
       "..                                                 ...     ...   ...    ...   \n",
       "886                              Montvila, Rev. Juozas    male  27.0      0   \n",
       "887                       Graham, Miss. Margaret Edith  female  19.0      0   \n",
       "888           Johnston, Miss. Catherine Helen \"Carrie\"  female   NaN      1   \n",
       "889                              Behr, Mr. Karl Howell    male  26.0      0   \n",
       "890                                Dooley, Mr. Patrick    male  32.0      0   \n",
       "\n",
       "     Parch            Ticket     Fare Cabin Embarked  \n",
       "0        0         A/5 21171   7.2500   NaN        S  \n",
       "1        0          PC 17599  71.2833   C85        C  \n",
       "2        0  STON/O2. 3101282   7.9250   NaN        S  \n",
       "3        0            113803  53.1000  C123        S  \n",
       "4        0            373450   8.0500   NaN        S  \n",
       "..     ...               ...      ...   ...      ...  \n",
       "886      0            211536  13.0000   NaN        S  \n",
       "887      0            112053  30.0000   B42        S  \n",
       "888      2        W./C. 6607  23.4500   NaN        S  \n",
       "889      0            111369  30.0000  C148        C  \n",
       "890      0            370376   7.7500   NaN        Q  \n",
       "\n",
       "[891 rows x 12 columns]"
      ]
     },
     "execution_count": 28,
     "metadata": {},
     "output_type": "execute_result"
    }
   ],
   "source": [
    "#Contoh datanya\n",
    "data_titanic"
   ]
  },
  {
   "cell_type": "code",
   "execution_count": null,
   "id": "df829fc5-cc42-4e0e-80da-a370615a41ff",
   "metadata": {},
   "outputs": [],
   "source": []
  }
 ],
 "metadata": {
  "kernelspec": {
   "display_name": "Python 3 (ipykernel)",
   "language": "python",
   "name": "python3"
  },
  "language_info": {
   "codemirror_mode": {
    "name": "ipython",
    "version": 3
   },
   "file_extension": ".py",
   "mimetype": "text/x-python",
   "name": "python",
   "nbconvert_exporter": "python",
   "pygments_lexer": "ipython3",
   "version": "3.12.6"
  },
  "toc": {
   "base_numbering": 1,
   "nav_menu": {},
   "number_sections": true,
   "sideBar": true,
   "skip_h1_title": false,
   "title_cell": "Table of Contents",
   "title_sidebar": "Contents",
   "toc_cell": false,
   "toc_position": {
    "height": "calc(100% - 180px)",
    "left": "10px",
    "top": "150px",
    "width": "253.729px"
   },
   "toc_section_display": true,
   "toc_window_display": true
  },
  "varInspector": {
   "cols": {
    "lenName": 16,
    "lenType": 16,
    "lenVar": 40
   },
   "kernels_config": {
    "python": {
     "delete_cmd_postfix": "",
     "delete_cmd_prefix": "del ",
     "library": "var_list.py",
     "varRefreshCmd": "print(var_dic_list())"
    },
    "r": {
     "delete_cmd_postfix": ") ",
     "delete_cmd_prefix": "rm(",
     "library": "var_list.r",
     "varRefreshCmd": "cat(var_dic_list()) "
    }
   },
   "types_to_exclude": [
    "module",
    "function",
    "builtin_function_or_method",
    "instance",
    "_Feature"
   ],
   "window_display": false
  }
 },
 "nbformat": 4,
 "nbformat_minor": 5
}
