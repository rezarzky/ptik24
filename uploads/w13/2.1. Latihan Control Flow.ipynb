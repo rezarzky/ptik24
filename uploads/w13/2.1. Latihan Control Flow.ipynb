{
 "cells": [
  {
   "cell_type": "markdown",
   "id": "86bd7dba",
   "metadata": {},
   "source": [
    "# Contoh If Else"
   ]
  },
  {
   "cell_type": "code",
   "execution_count": 10,
   "id": "b3ebec78",
   "metadata": {
    "ExecuteTime": {
     "end_time": "2022-10-12T01:44:37.299590Z",
     "start_time": "2022-10-12T01:44:37.286700Z"
    }
   },
   "outputs": [],
   "source": [
    "kondisi = 'tidak lapar'\n",
    "uang = 50000\n",
    "warteg = 10000"
   ]
  },
  {
   "cell_type": "code",
   "execution_count": 12,
   "id": "6903576f",
   "metadata": {
    "ExecuteTime": {
     "end_time": "2022-10-12T01:44:55.758311Z",
     "start_time": "2022-10-12T01:44:55.744315Z"
    }
   },
   "outputs": [
    {
     "name": "stdout",
     "output_type": "stream",
     "text": [
      "Ga jadi beli makan\n"
     ]
    }
   ],
   "source": [
    "if kondisi == 'lapar':\n",
    "    if uang > warteg:\n",
    "        print('Beli makan')\n",
    "    else:\n",
    "        print('Ga jadi beli makan')\n",
    "else:\n",
    "    print('Ga jadi beli makan')"
   ]
  },
  {
   "cell_type": "code",
   "execution_count": 11,
   "id": "572d8516",
   "metadata": {
    "ExecuteTime": {
     "end_time": "2022-10-12T01:44:41.475878Z",
     "start_time": "2022-10-12T01:44:41.471883Z"
    }
   },
   "outputs": [
    {
     "name": "stdout",
     "output_type": "stream",
     "text": [
      "ga jadi beli makan\n"
     ]
    }
   ],
   "source": [
    "if (kondisi == 'lapar') & (uang >= warteg):\n",
    "    print('beli makan')\n",
    "else:\n",
    "    print('ga jadi beli makan')"
   ]
  },
  {
   "cell_type": "code",
   "execution_count": 19,
   "id": "2ca48c87",
   "metadata": {
    "ExecuteTime": {
     "end_time": "2022-10-12T02:06:18.718972Z",
     "start_time": "2022-10-12T02:06:18.706971Z"
    }
   },
   "outputs": [
    {
     "name": "stdout",
     "output_type": "stream",
     "text": [
      "Absen ke-1, lalu Absen ke-2, lalu Absen ke-3, lalu Absen ke-4, lalu Absen ke-5, lalu Absen ke-6, lalu Absen ke-7, lalu Absen ke-8, lalu Absen ke-9, lalu "
     ]
    }
   ],
   "source": [
    "range(1,10)\n",
    "for i in range(1,10):\n",
    "    print('Absen ke-',i, sep='', end=', lalu ')"
   ]
  },
  {
   "cell_type": "markdown",
   "id": "9753c096",
   "metadata": {},
   "source": [
    "# Contoh Iterasi"
   ]
  },
  {
   "cell_type": "code",
   "execution_count": 26,
   "id": "83add267",
   "metadata": {
    "ExecuteTime": {
     "end_time": "2022-10-12T02:10:09.564923Z",
     "start_time": "2022-10-12T02:10:09.550923Z"
    }
   },
   "outputs": [
    {
     "name": "stdout",
     "output_type": "stream",
     "text": [
      "absen dimulai\n",
      "absen 1\n",
      "absen 2\n",
      "absen 3\n",
      "absen 4\n",
      "absen 5\n",
      "absen 6\n",
      "absen 7\n",
      "absen 8\n",
      "absen 9\n",
      "absen selesai\n"
     ]
    }
   ],
   "source": [
    "print('absen dimulai')\n",
    "for i in range(0, 9):\n",
    "    print('absen', i+1)\n",
    "print('absen selesai')"
   ]
  },
  {
   "cell_type": "markdown",
   "id": "d3f80b51",
   "metadata": {},
   "source": [
    "# Contoh Iterasi While"
   ]
  },
  {
   "cell_type": "code",
   "execution_count": 29,
   "id": "1fb30040",
   "metadata": {
    "ExecuteTime": {
     "end_time": "2022-10-12T02:19:58.724497Z",
     "start_time": "2022-10-12T02:19:58.717496Z"
    }
   },
   "outputs": [
    {
     "name": "stdout",
     "output_type": "stream",
     "text": [
      "ditolak yang ke- 1\n",
      "ditolak yang ke- 2\n",
      "ditolak yang ke- 3\n",
      "ditolak yang ke- 4\n",
      "ditolak yang ke- 5\n",
      "ditolak yang ke- 6\n",
      "ditolak yang ke- 7\n",
      "stop!\n"
     ]
    }
   ],
   "source": [
    "i = 1\n",
    "while i < 8:\n",
    "    print('ditolak yang ke-', i)\n",
    "    i += 1 #penting!!\n",
    "print('stop!')"
   ]
  },
  {
   "cell_type": "markdown",
   "id": "16dce487",
   "metadata": {},
   "source": [
    "# Contoh Break"
   ]
  },
  {
   "cell_type": "markdown",
   "id": "801411c8",
   "metadata": {},
   "source": [
    "Rencana menembak 100 cewe/cowo. Saran temen, 3x ditolak, mending mengembangkan diri sendiri dulu."
   ]
  },
  {
   "cell_type": "code",
   "execution_count": 30,
   "id": "86182407",
   "metadata": {
    "ExecuteTime": {
     "end_time": "2022-10-12T02:33:35.085935Z",
     "start_time": "2022-10-12T02:33:35.072268Z"
    }
   },
   "outputs": [
    {
     "name": "stdout",
     "output_type": "stream",
     "text": [
      "ditolak yang ke- 1\n",
      "ditolak yang ke- 2\n",
      "ditolak yang ke- 3\n",
      "kembangkan dirimu!\n"
     ]
    }
   ],
   "source": [
    "for i in range (100):\n",
    "    if i == 3:\n",
    "        break\n",
    "    print('ditolak yang ke-', i+1)\n",
    "    i += 1\n",
    "print('kembangkan dirimu!')"
   ]
  },
  {
   "cell_type": "markdown",
   "id": "b59edc41",
   "metadata": {},
   "source": [
    "# Contoh Continue"
   ]
  },
  {
   "cell_type": "code",
   "execution_count": 32,
   "id": "6975f05d",
   "metadata": {
    "ExecuteTime": {
     "end_time": "2022-10-12T02:54:18.110573Z",
     "start_time": "2022-10-12T02:54:18.095961Z"
    }
   },
   "outputs": [],
   "source": [
    "#Ada 7 orang\n",
    "pertemuan = ['NON-PHP', 'PHP', 'NON-PHP', 'NON-PHP', 'PHP', 'NON-PHP', 'NON-PHP']"
   ]
  },
  {
   "cell_type": "code",
   "execution_count": 37,
   "id": "b415837c",
   "metadata": {},
   "outputs": [
    {
     "name": "stdout",
     "output_type": "stream",
     "text": [
      "Jadikan teman dekat orang ke- 1\n",
      "Jadikan teman dekat orang ke- 3\n",
      "Jadikan teman dekat orang ke- 4\n",
      "Jadikan teman dekat orang ke- 6\n",
      "Jadikan teman dekat orang ke- 7\n"
     ]
    }
   ],
   "source": [
    "teman = 1\n",
    "for i in pertemuan:\n",
    "    if i == 'PHP':\n",
    "        teman += 1\n",
    "        continue\n",
    "    else:\n",
    "        print('Jadikan teman dekat orang ke-', teman)\n",
    "        teman += 1"
   ]
  },
  {
   "cell_type": "code",
   "execution_count": 38,
   "id": "73f693f8",
   "metadata": {
    "ExecuteTime": {
     "end_time": "2022-10-12T02:56:40.677620Z",
     "start_time": "2022-10-12T02:56:40.660686Z"
    }
   },
   "outputs": [
    {
     "name": "stdout",
     "output_type": "stream",
     "text": [
      "Deketin orang ke- 1\n",
      "Deketin orang ke- 3\n",
      "Deketin orang ke- 4\n",
      "Deketin orang ke- 6\n",
      "Deketin orang ke- 7\n"
     ]
    }
   ],
   "source": [
    "for i in range(len(pertemuan)):\n",
    "    if pertemuan[i] == 'PHP':\n",
    "        continue\n",
    "    print('Deketin orang ke-', i+1)\n",
    "    "
   ]
  },
  {
   "cell_type": "code",
   "execution_count": 39,
   "id": "84a84b1f",
   "metadata": {
    "ExecuteTime": {
     "end_time": "2022-10-12T02:57:07.254994Z",
     "start_time": "2022-10-12T02:57:07.242893Z"
    }
   },
   "outputs": [
    {
     "data": {
      "text/plain": [
       "range(0, 7)"
      ]
     },
     "execution_count": 39,
     "metadata": {},
     "output_type": "execute_result"
    }
   ],
   "source": [
    "range(len(pertemuan))"
   ]
  },
  {
   "cell_type": "code",
   "execution_count": 40,
   "id": "ee228816",
   "metadata": {
    "ExecuteTime": {
     "end_time": "2022-10-12T02:57:25.498073Z",
     "start_time": "2022-10-12T02:57:25.486077Z"
    }
   },
   "outputs": [
    {
     "data": {
      "text/plain": [
       "'NON-PHP'"
      ]
     },
     "execution_count": 40,
     "metadata": {},
     "output_type": "execute_result"
    }
   ],
   "source": [
    "pertemuan[0]"
   ]
  },
  {
   "cell_type": "code",
   "execution_count": 41,
   "id": "cc30438d",
   "metadata": {
    "ExecuteTime": {
     "end_time": "2022-10-12T02:57:33.618427Z",
     "start_time": "2022-10-12T02:57:33.606144Z"
    }
   },
   "outputs": [
    {
     "data": {
      "text/plain": [
       "'PHP'"
      ]
     },
     "execution_count": 41,
     "metadata": {},
     "output_type": "execute_result"
    }
   ],
   "source": [
    "pertemuan[1]"
   ]
  }
 ],
 "metadata": {
  "kernelspec": {
   "display_name": "Python 3 (ipykernel)",
   "language": "python",
   "name": "python3"
  },
  "language_info": {
   "codemirror_mode": {
    "name": "ipython",
    "version": 3
   },
   "file_extension": ".py",
   "mimetype": "text/x-python",
   "name": "python",
   "nbconvert_exporter": "python",
   "pygments_lexer": "ipython3",
   "version": "3.12.6"
  },
  "toc": {
   "base_numbering": 1,
   "nav_menu": {},
   "number_sections": true,
   "sideBar": true,
   "skip_h1_title": false,
   "title_cell": "Table of Contents",
   "title_sidebar": "Contents",
   "toc_cell": false,
   "toc_position": {},
   "toc_section_display": true,
   "toc_window_display": true
  },
  "varInspector": {
   "cols": {
    "lenName": 16,
    "lenType": 16,
    "lenVar": 40
   },
   "kernels_config": {
    "python": {
     "delete_cmd_postfix": "",
     "delete_cmd_prefix": "del ",
     "library": "var_list.py",
     "varRefreshCmd": "print(var_dic_list())"
    },
    "r": {
     "delete_cmd_postfix": ") ",
     "delete_cmd_prefix": "rm(",
     "library": "var_list.r",
     "varRefreshCmd": "cat(var_dic_list()) "
    }
   },
   "position": {
    "height": "518.844px",
    "left": "1550px",
    "right": "20px",
    "top": "120px",
    "width": "350px"
   },
   "types_to_exclude": [
    "module",
    "function",
    "builtin_function_or_method",
    "instance",
    "_Feature"
   ],
   "window_display": false
  }
 },
 "nbformat": 4,
 "nbformat_minor": 5
}
